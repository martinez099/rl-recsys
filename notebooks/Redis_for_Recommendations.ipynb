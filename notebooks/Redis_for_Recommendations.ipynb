{
 "cells": [
  {
   "cell_type": "markdown",
   "metadata": {
    "slideshow": {
     "slide_type": "slide"
    }
   },
   "source": [
    "<img style=\"float: right; margin: 30px; padding: 10px; background-color: silver; width: 300px\" src=\"https://docs.redislabs.com/latest/images/icon_logo/redis-logo.svg\">\n",
    "\n",
    "# Redis for Recommendations\n",
    "Martin Forstner<br>\n",
    "<i>Solution Architect</i><br>\n"
   ]
  },
  {
   "cell_type": "markdown",
   "metadata": {
    "slideshow": {
     "slide_type": "slide"
    }
   },
   "source": [
    "## About Redis\n",
    "\n",
    "<img style=\"float: right; margin: 30px; padding : 10px; background-color: silver\" src=\"https://redis.io/images/redis-white.png\">\n",
    "\n",
    "Think it's a good idea to mention what Redis actually is, whereby Redis is very popular and so most of you might already know what it is. Here a ranking of the most popular database systems (just to highlight how popular Redis is):\n",
    "\n",
    "* https://db-engines.com/en/ranking\n",
    "\n",
    "Redis is an open source (BSD licensed), in-memory data structure store, used as a database, cache and message broker. It supports data structures such as strings, hashes, lists, sets, sorted sets with range queries, bitmaps, hyperloglogs, geospatial indexes with radius queries and streams. Redis has built-in replication, Lua scripting, LRU eviction, transactions and different levels of on-disk persistence."
   ]
  },
  {
   "cell_type": "markdown",
   "metadata": {
    "slideshow": {
     "slide_type": "subslide"
    }
   },
   "source": [
    "### Redis Enterprise\n",
    "\n",
    "Redis Labs is the home of OSS Redis and the provider of the multi-model in-memory database system 'Redis Enterprise'. Redis Enterprise is based on Redis Open Source and is providing the following addtional features:\n",
    "\n",
    "* **Easier Operability**: Admin Web UI, Admin REST Service, several CLI tools, Redis Enterprise Cloud (Hosted or VPC), Enterprise Support\n",
    "* **Enhanced High Availability**: Node based quorum, rack-tone awareness, disaster recovery, periodic backup, faster failover times and different watchdog profiles, ...\n",
    "* **Improved Scalability and Consistent Performance**: Multiple Redis shards behind a single endpoint, different shards placement policies, built-in resource management for better resource isolation, multi-tenancy, Tunable frontend thread management, ...\n",
    "* **Active-Active Geo-replicated Databases**: By leveraging Conflict-free Replicated Data Types (resetable PN-Counters, OR-Sets, LW-wins Register, causual consistency via Vector Clocks)\n",
    "* **Redis on Flash**: Uses Flash drives as RAM extension in order to store more data at lower costs."
   ]
  },
  {
   "cell_type": "markdown",
   "metadata": {
    "slideshow": {
     "slide_type": "subslide"
    }
   },
   "source": [
    "### Modules\n",
    "\n",
    "In addition Redis Labs is maintaining the following modules:\n",
    "\n",
    "* **RediSearch**: Search engine over Redis\n",
    "* **Redis-ML**: Machine Learning Model Server\n",
    "* **Redis Graph**: Graph database with an Open Cypher-based query language\n",
    "* **ReJSON**: A JSON data type for Redis\n",
    "* **ReBloom**: Scalable Bloom filters\n",
    "\n",
    "The source code of all of these modules is available on Github."
   ]
  },
  {
   "cell_type": "markdown",
   "metadata": {
    "slideshow": {
     "slide_type": "slide"
    }
   },
   "source": [
    "## Setup\n",
    "\n",
    "The following has to be prepared for this course:\n",
    "\n",
    "* Install Python 3 https://www.python.org/downloads\n",
    "* Install Docker https://docs.docker.com/install\n",
    "* Install Jupyter `python3 -m pip install jupyter`\n",
    "* Install redis-py `python3 -m pip install redis`\n",
    "\n",
    "To start the course:\n",
    "\n",
    "* Clone repo `git clone https://github.com/martinez099/rl-recsys`\n",
    "* Start Redis `rl-recsys/docker/start_redis.bash`\n",
    "* Run notebook `jupiter notebook rl-recsys/notebooks/Redis_for_Recommendations.ipynb`"
   ]
  },
  {
   "cell_type": "code",
   "execution_count": 1,
   "metadata": {
    "scrolled": true,
    "slideshow": {
     "slide_type": "subslide"
    }
   },
   "outputs": [],
   "source": [
    "import redis\n",
    "\n",
    "# Vanilla Redis\n",
    "r = redis.StrictRedis(decode_responses=True, host='redis-17293.mf.demo.redislabs.com', port=17293)"
   ]
  },
  {
   "cell_type": "markdown",
   "metadata": {
    "slideshow": {
     "slide_type": "slide"
    }
   },
   "source": [
    "## Content Based Filtering\n",
    "\n",
    "The idea is to look at what a specific user is interested in and then to recommend things those are similar (i.e. having the same class) as other things the  user is liking.\n",
    "\n",
    "* Data structures: **Sets**\n",
    "* Operations: Members/Scans, Union"
   ]
  },
  {
   "cell_type": "code",
   "execution_count": null,
   "metadata": {
    "slideshow": {
     "slide_type": "skip"
    }
   },
   "outputs": [],
   "source": [
    "# Clean\n",
    "r.flushall()\n",
    "print(\"Database cleaned.\")"
   ]
  },
  {
   "cell_type": "code",
   "execution_count": null,
   "metadata": {},
   "outputs": [],
   "source": [
    "# Helpers\n",
    "\n",
    "## Format any string to a Redis key\n",
    "def to_key(val):\n",
    "    return val.lower().replace(' ', '_')"
   ]
  },
  {
   "cell_type": "code",
   "execution_count": null,
   "metadata": {
    "scrolled": false,
    "slideshow": {
     "slide_type": "subslide"
    }
   },
   "outputs": [],
   "source": [
    "# Demo data\n",
    "\n",
    "## Each user has comics\n",
    "r.sadd('usr:david:items', 'Valerian', 'Batman')\n",
    "r.sadd('usr:pieter:items', 'Fantastic Four')\n",
    "r.sadd('usr:martin:items', 'Avatar')\n",
    "\n",
    "## Each comic belongs to a category\n",
    "r.set('itm:valerian:category', 'scifi')\n",
    "r.set('itm:fantastic_four:category', 'scifi')\n",
    "r.set('itm:batman:category', 'super-heros')\n",
    "r.set('itm:spiderman::category', 'super-heros')\n",
    "r.set('itm:wonder_woman:category', 'super-heros')\n",
    "r.set('itm:avatar:category', 'fantasy')\n",
    "r.set('itm:dragon_age:category', 'fantasy')\n",
    "\n",
    "## Each category has comics\n",
    "r.sadd('ctg:scifi:items','Valerian', 'Fantastic Four')\n",
    "r.sadd('ctg:super-heros:items', 'Batman', 'Spiderman', 'Wonder Woman')\n",
    "r.sadd('ctg:fantasy:items', 'Avatar', 'Dragon Age')\n",
    "\n",
    "print('Demo data created.')"
   ]
  },
  {
   "cell_type": "code",
   "execution_count": null,
   "metadata": {},
   "outputs": [],
   "source": [
    "# On reqeust we get the categories of each user's comic\n",
    "## N.B: SSCAN better for large sets\n",
    "categories_david = {r.get('itm:{}:category'.format(to_key(item))) for item in r.smembers('usr:david:items')}\n",
    "categories_pieter = [r.get('itm:{}:category'.format(to_key(item))) for item in r.smembers('usr:pieter:items')]\n",
    "categories_martin = [r.get('itm:{}:category'.format(to_key(item))) for item in r.smembers('usr:martin:items')]\n",
    "\n",
    "# Then we get the recommended set of comics\n",
    "## N.B: SUNIONSTORE for materializing large result sets\n",
    "recommendation_david = r.sunion([\"ctg:\" + ctg + \":items\" for ctg in categories_david])\n",
    "recommendation_pieter = r.sunion([\"ctg:\" + ctg + \":items\" for ctg in categories_pieter])\n",
    "recommendation_martin = r.sunion([\"ctg:\" + ctg + \":items\" for ctg in categories_martin])\n",
    "\n",
    "# Lastly we substract the comics each user has already\n",
    "recommendation_david -= r.smembers('usr:david:items')\n",
    "recommendation_pieter -= r.smembers('usr:pieter:items')\n",
    "recommendation_martin -= r.smembers('usr:martin:items')\n",
    "\n",
    "# Print result\n",
    "print(\"David could be also interested in: {0}\".format(recommendation_david))\n",
    "print(\"Pieter could be also interested in: {0}\".format(recommendation_pieter))\n",
    "print(\"Martin could be also interested in: {0}\".format(recommendation_martin))"
   ]
  },
  {
   "cell_type": "markdown",
   "metadata": {
    "slideshow": {
     "slide_type": "slide"
    }
   },
   "source": [
    "## Collaborative Filtering\n",
    "\n",
    "It's mandatory to have details about many other users collected. The underlying idea is that if person A likes the same things as person B, then person B might also like the other items those are liked by person A.\n",
    "\n",
    "* Data structures: **Sets**\n",
    "* Operations: Members/Scans, Union, Diff"
   ]
  },
  {
   "cell_type": "code",
   "execution_count": null,
   "metadata": {
    "slideshow": {
     "slide_type": "skip"
    }
   },
   "outputs": [],
   "source": [
    "# Clean\n",
    "r.flushall()\n",
    "print(\"Database cleaned.\")"
   ]
  },
  {
   "cell_type": "code",
   "execution_count": null,
   "metadata": {
    "slideshow": {
     "slide_type": "subslide"
    }
   },
   "outputs": [],
   "source": [
    "# Demo data\n",
    "\n",
    "## Each user owns a set of items, i.e. a comic serie\n",
    "r.sadd('usr:david:items','Spiderman', 'Batman')\n",
    "r.sadd('usr:pieter:items', 'Wonder Woman', 'Batman')\n",
    "r.sadd('usr:martin:items', 'Spiderman')\n",
    "\n",
    "## The following is the reverse mapping per item\n",
    "r.sadd('itm:spiderman:users', 'david', 'martin')\n",
    "r.sadd('itm:batman:users', 'david', 'pieter')\n",
    "r.sadd('itm:wonder_woman:users', 'pieter')\n",
    "\n",
    "print(\"Demo data created.\")"
   ]
  },
  {
   "cell_type": "code",
   "execution_count": null,
   "metadata": {
    "slideshow": {
     "slide_type": "subslide"
    }
   },
   "outputs": [],
   "source": [
    "# These are all the users interested in the same items as Pieter\n",
    "items = r.smembers('usr:pieter:items')\n",
    "users = r.sunion([\"itm:\" + to_key(item) + \":users\" for item in items])\n",
    "print(\"Users interested in the same items as Pieter: {0}\".format(users))\n",
    "\n",
    "# Pieter is interested in the same items as David, so here the recommendation for Pieter based on David's interests\n",
    "pieter_key = 'usr:pieter:items'\n",
    "print(\"Pieter is interested in: {0}\".format(r.smembers(pieter_key)))\n",
    "for usr in users:\n",
    "    usr_key = \"usr:\" + usr + \":items\"\n",
    "    if usr_key != pieter_key:\n",
    "        print(\"Pieter could be also interested in: {0}\".format(r.sdiff(usr_key, pieter_key)))"
   ]
  },
  {
   "cell_type": "markdown",
   "metadata": {
    "slideshow": {
     "slide_type": "slide"
    }
   },
   "source": [
    "## Ratings based Collaborative Filtering\n",
    "\n",
    "Same as collaborative filtering but we are now interested in 'How much does a user like an item' which allows us to find out if 2 or more users are liking similar things. Things those are also liked by User B but not yet liked by user A could be also interesting for user A.\n",
    "\n",
    "* Structures: **Sorted Sets**\n",
    "* Operations: Intersections, Unions, Members/Scans, Ranges, Weights & Aggregations"
   ]
  },
  {
   "cell_type": "code",
   "execution_count": null,
   "metadata": {
    "slideshow": {
     "slide_type": "skip"
    }
   },
   "outputs": [],
   "source": [
    "# Clean\n",
    "r.flushall()\n",
    "print(\"Database cleaned.\")"
   ]
  },
  {
   "cell_type": "code",
   "execution_count": null,
   "metadata": {
    "slideshow": {
     "slide_type": "subslide"
    }
   },
   "outputs": [],
   "source": [
    "# Demo data\n",
    "\n",
    "## Ratings by user\n",
    "r.zadd('usr:david:ratings', {'spiderman': 3.0})\n",
    "r.zadd('usr:david:ratings', {'batman': 1.0})\n",
    "r.zadd('usr:david:ratings', {'superman': 3.0})\n",
    "r.zadd('usr:pieter:ratings', {'batman': 2.0})\n",
    "r.zadd('usr:pieter:ratings', {'wonder_woman': 1.0})\n",
    "r.zadd('usr:pieter:ratings', {'aqua_man': 5.0})\n",
    "r.zadd('usr:pieter:ratings', {'superman': 4.0})\n",
    "r.zadd('usr:martin:ratings', {'aqua_man': 3.0})\n",
    "r.zadd('usr:martin:ratings', {'batman': 5.0})\n",
    "\n",
    "## Ratings by item\n",
    "r.zadd('itm:spiderman:ratings', {'david': 3.0})\n",
    "r.zadd('itm:batman:ratings', {'david': 1.0, 'pieter': 3.0, 'martin': 5.0})\n",
    "r.zadd('itm:wonder_woman:ratings', {'pieter': 1.0})\n",
    "r.zadd('itm:superman:ratings', {'david': 3.0, 'pieter': 4.0})\n",
    "r.zadd('itm:aqua_man:ratings', {'pieter': 5.0, 'martin': 3.0})\n",
    "\n",
    "print(\"Demo data created.\")"
   ]
  },
  {
   "cell_type": "markdown",
   "metadata": {
    "slideshow": {
     "slide_type": "subslide"
    }
   },
   "source": [
    "### Sorted Set Intersections with Aggregations and Weights\n",
    "\n",
    "* By default, the resulting score of an element is the sum of its scores in the sorted sets where it exists. \n",
    "* Weights are multiplicators for scores\n",
    "* The weight is (1,-1) means that we subtract the second value from the first\n",
    "\n",
    "### Root Mean Square\n",
    "\n",
    "* The RMS value of a set of values is the square root of the arithmetic mean of the squares of the values."
   ]
  },
  {
   "cell_type": "code",
   "execution_count": null,
   "metadata": {
    "slideshow": {
     "slide_type": "subslide"
    }
   },
   "outputs": [],
   "source": [
    "import math\n",
    "from functools import reduce\n",
    "\n",
    "# Some helpers\n",
    "\n",
    "## Root Mean Square\n",
    "def calc_rms(values):\n",
    "    sq_sum = reduce(lambda x, y: x + y[1] ** 2, values, 0)\n",
    "    return math.sqrt(sq_sum / len(values))\n",
    "\n",
    "## NB: redis-py doesn't support weitghts on zinterstore\n",
    "def zinterstore(target, keys, weights, agg=None):\n",
    "    if not agg:\n",
    "        return r.execute_command('ZINTERSTORE', target, len(keys), *keys, 'WEIGHTS', *weights)\n",
    "    else:\n",
    "        return r.execute_command('ZINTERSTORE', target, len(keys), *keys, 'WEIGHTS', *weights, 'AGGREGATE', agg)\n",
    "\n",
    "## NB: redis-py doesn't support weitghts on zunionstore\n",
    "def zunionstore(target, keys, weights, agg=None):\n",
    "    if not agg:\n",
    "        return r.execute_command('ZUNIONSTORE', target, len(keys), *keys, 'WEIGHTS', *weights)\n",
    "    else:\n",
    "        return r.execute_command('ZUNIONSTORE', target, len(keys), *keys, 'WEIGHTS', *weights, 'AGGREGATE', agg)    "
   ]
  },
  {
   "cell_type": "code",
   "execution_count": null,
   "metadata": {
    "slideshow": {
     "slide_type": "subslide"
    }
   },
   "outputs": [],
   "source": [
    "# Items rated by David\n",
    "david_key = 'usr:david:ratings'\n",
    "ratings_david = r.zrange(david_key, 0, -1)\n",
    "r.zunionstore('usr:david:ratings:same', [\"itm:\" + rt + \":ratings\" for rt in ratings_david])\n",
    "users = r.zrange('usr:david:ratings:same', 0, -1)\n",
    "print(\"The following users rated the same items then David: {}\".format(users))\n",
    "\n",
    "# Calculate similarities for David\n",
    "for usr in users:\n",
    "    usr_key = \"usr:\" + usr + ':ratings'\n",
    "\n",
    "    if usr_key != david_key:\n",
    "        \n",
    "        # Set of user keys to examine\n",
    "        usr_keys = [ david_key, usr_key ]\n",
    "\n",
    "        # Weights are multiplying the scores\n",
    "        zinterstore(\"dist:david:\" + usr, usr_keys, [1, -1])\n",
    "        dists = r.zrange(\"dist:david:\" + usr, 0, -1, True, True)\n",
    "        print(\"The rating distance to {0} is {1}\".format(usr, dists))\n",
    "        \n",
    "        # Calculate root mean square\n",
    "        rms = calc_rms(dists)\n",
    "        print(\"The average distance (RMS) to {0} is {1}\".format(usr, rms))\n",
    "\n",
    "        # The user is similar enough to David, add items of other users \n",
    "        # to the recommendation list\n",
    "        if rms <= 1:\n",
    "            \n",
    "            # Items those are rated by David will have a negative score\n",
    "            zunionstore(\"rec:david\", usr_keys, [-1, 1], \"MIN\")\n",
    "            \n",
    "            # Filter only items with a score between 4 and 5 out\n",
    "            recommendation = r.zrangebyscore('rec:david', 4, 5, withscores=True)\n",
    "            print(\"The following is highly recommended David: {}\".format(recommendation))"
   ]
  },
  {
   "cell_type": "markdown",
   "metadata": {
    "slideshow": {
     "slide_type": "slide"
    }
   },
   "source": [
    "## Social Collaborative Filtering\n",
    "\n",
    "The previous examples used Sets and Sorted Sets. We are now exploring how to use Graphs. Our example is taking a social ('friend of') aspect into account.\n",
    "\n",
    "\n",
    "* Data structures: **Graph**\n",
    "* Operations: Traversals, Aggregations\n"
   ]
  },
  {
   "cell_type": "code",
   "execution_count": 3,
   "metadata": {
    "slideshow": {
     "slide_type": "skip"
    }
   },
   "outputs": [
    {
     "name": "stdout",
     "output_type": "stream",
     "text": [
      "Graph database cleaned.\n"
     ]
    }
   ],
   "source": [
    "import json\n",
    "\n",
    "# RedisGraph\n",
    "r_g = redis.StrictRedis('redis-17371.mf.demo.redislabs.com', '17371', decode_responses=True)\n",
    "\n",
    "# Clean\n",
    "r_g.flushall()\n",
    "print(\"Graph database cleaned.\")"
   ]
  },
  {
   "cell_type": "code",
   "execution_count": 4,
   "metadata": {
    "slideshow": {
     "slide_type": "subslide"
    }
   },
   "outputs": [],
   "source": [
    "# Cypher's property format is slightly different than JSON\n",
    "# {\"hello\": \"world\" } is {hello: 'world'} \n",
    "def format_query_props(query):\n",
    "    query = query.replace(': \"', \": '\")\n",
    "    query = query.replace('\",', \"',\")\n",
    "    query = query.replace('\"}', \"'}\")\n",
    "    query = query.replace('\"', \"\")\n",
    "    return query\n",
    "\n",
    "'''\n",
    "CREATE (:person { name: 'A', age: B})\n",
    "'''\n",
    "def create_vertex(graph, label, props):\n",
    "    # Some query formatting\n",
    "    query = 'CREATE ( :{0} {1} )'.format(label, json.dumps(props))\n",
    "    query = format_query_props(query)\n",
    "    return r_g.execute_command('GRAPH.QUERY', graph, query)\n",
    "\n",
    "'''\n",
    "MATCH (a:Person),(b:Person)\n",
    "WHERE a.name = 'A' AND b.name = 'B'\n",
    "CREATE (a)-[r:RELTYPE]->(b)\n",
    "RETURN type(r)\n",
    "'''    \n",
    "def create_edge(graph, slabel, tlabel, source, target, elabel):\n",
    "    query = \"MATCH (a:{0}),(b:{1}) WHERE a.name = '{2}' AND b.name = '{3}' CREATE (a)-[r:{4}]->(b) RETURN type(r)\"\n",
    "    query = query.format(slabel, tlabel, source, target, elabel)\n",
    "    #DEBUG print(query)\n",
    "    return r_g.execute_command('GRAPH.QUERY', graph, query)\n",
    "    \n",
    "'''\n",
    "MATCH (a:Person)-[r:RELTYPE]->(b:Person)\n",
    "WHERE a.name = 'A'\n",
    "RETURN b.name\n",
    "'''\n",
    "def get_neighbours(graph, slabel, tlabel, elabel, source):\n",
    "    query = \"MATCH (a:{0})-[r:{1}]->(b:{2}) WHERE a.name = '{3}' RETURN b.name\".format(slabel, elabel, tlabel, source)\n",
    "    #DEBUG: print(query)\n",
    "    return r_g.execute_command('GRAPH.QUERY', graph, query)"
   ]
  },
  {
   "cell_type": "code",
   "execution_count": 5,
   "metadata": {
    "slideshow": {
     "slide_type": "subslide"
    }
   },
   "outputs": [],
   "source": [
    "# Constants\n",
    "\n",
    "## GRAPH NAME\n",
    "GRAPH = 'Comics'\n",
    "\n",
    "## VERTICES\n",
    "T_PERSON = 'Person'\n",
    "T_COMIC = 'Comic'\n",
    "T_CATEGORY = 'Category'\n",
    "\n",
    "## EDGES\n",
    "R_FRIEND = 'IS_FRIEND_OF'\n",
    "R_LIKES = 'LIKES'\n",
    "R_TYPE = 'TYPE_OF'"
   ]
  },
  {
   "cell_type": "code",
   "execution_count": 6,
   "metadata": {
    "slideshow": {
     "slide_type": "subslide"
    }
   },
   "outputs": [
    {
     "name": "stdout",
     "output_type": "stream",
     "text": [
      "Vertices created.\n"
     ]
    }
   ],
   "source": [
    "# Create some vertices\n",
    "\n",
    "## Persons\n",
    "david={\"name\": \"David\", \"age\": 38, \"gender\": \"male\"}\n",
    "pieter={\"name\": \"Pieter\", \"age\": 35, \"gender\": \"male\"}\n",
    "itamar={\"name\": \"Itamar\", \"age\": 40, \"gender\": \"male\"}\n",
    "vassilis={\"name\": \"Vassilis\", \"age\": 39, \"gender\": \"male\"}\n",
    "katrin={\"name\": \"Katrin\", \"age\": 38, \"gender\": \"female\"}\n",
    "romy={\"name\": \"Romy\", \"age\": 35, \"gender\": \"female\"}\n",
    "\n",
    "## Comics\n",
    "spiderman={\"name\": \"Spiderman\"}\n",
    "batman={\"name\": \"Batman\"}\n",
    "wonder_woman={\"name\": \"Wonder Woman\"}\n",
    "superman={\"name\": \"Superman\"}\n",
    "aquaman={\"name\": \"Auqaman\"}\n",
    "valierian={\"name\" : \"Valerian\"}\n",
    "fantastic_four={\"name\" : \"Fantastic Four\"}\n",
    "\n",
    "## Categories\n",
    "super_heros = { \"name\" : \"Super Heros\" }\n",
    "scifi = { \"name\" : \"SciFi\" }\n",
    "\n",
    "## Load\n",
    "v_persons = [ david, pieter, itamar, vassilis, katrin, romy ]  \n",
    "v_comics = [ spiderman, batman, wonder_woman, superman, aquaman ]\n",
    "v_categories = [ super_heros, scifi ]\n",
    "for v in v_persons:\n",
    "    create_vertex(GRAPH, T_PERSON, v)\n",
    "    \n",
    "for v in v_comics:\n",
    "    create_vertex(GRAPH, T_COMIC, v)\n",
    "\n",
    "for v in v_categories:\n",
    "    create_vertex(GRAPH, T_CATEGORY, v)\n",
    "    \n",
    "print(\"Vertices created.\")"
   ]
  },
  {
   "cell_type": "code",
   "execution_count": 7,
   "metadata": {
    "slideshow": {
     "slide_type": "subslide"
    }
   },
   "outputs": [
    {
     "name": "stdout",
     "output_type": "stream",
     "text": [
      "Edges created.\n"
     ]
    }
   ],
   "source": [
    "# Create some edges\n",
    "\n",
    "## Person has Friends\n",
    "create_edge(GRAPH, T_PERSON, T_PERSON, 'David', 'Pieter', R_FRIEND)\n",
    "create_edge(GRAPH, T_PERSON, T_PERSON, 'David', 'Vassilis', R_FRIEND)\n",
    "create_edge(GRAPH, T_PERSON, T_PERSON, 'David', 'Katrin', R_FRIEND)\n",
    "\n",
    "## Person likes Comics\n",
    "create_edge(GRAPH, T_PERSON, T_COMIC, 'David', 'Spiderman', R_LIKES)\n",
    "create_edge(GRAPH, T_PERSON, T_COMIC, 'David', 'Batman', R_LIKES)\n",
    "create_edge(GRAPH, T_PERSON, T_COMIC, 'Pieter', 'Batman', R_LIKES)\n",
    "create_edge(GRAPH, T_PERSON, T_COMIC, 'Pieter', 'Wonder Woman', R_LIKES)\n",
    "create_edge(GRAPH, T_PERSON, T_COMIC, 'Vassilis', 'Wonder Woman', R_LIKES)\n",
    "create_edge(GRAPH, T_PERSON, T_COMIC, 'Vassilis', 'Superman', R_LIKES)\n",
    "\n",
    "## Comic is type of\n",
    "create_edge(GRAPH, T_CATEGORY, T_COMIC, 'Super Heros', 'Spiderman', R_TYPE)\n",
    "create_edge(GRAPH, T_CATEGORY, T_COMIC, 'Super Heros', 'Batman', R_TYPE)\n",
    "create_edge(GRAPH, T_CATEGORY, T_COMIC, 'Super Heros', 'Wonder Woman', R_TYPE)\n",
    "create_edge(GRAPH, T_CATEGORY, T_COMIC, 'Super Heros', 'Superman', R_TYPE)\n",
    "create_edge(GRAPH, T_CATEGORY, T_COMIC, 'Super Heros', 'Aquaman', R_TYPE)\n",
    "create_edge(GRAPH, T_CATEGORY, T_COMIC, 'SciFi', 'Valerian', R_TYPE)\n",
    "create_edge(GRAPH, T_CATEGORY, T_COMIC, 'SciFi', 'Fantastic Four', R_TYPE)\n",
    "\n",
    "print(\"Edges created.\")"
   ]
  },
  {
   "cell_type": "code",
   "execution_count": 8,
   "metadata": {
    "slideshow": {
     "slide_type": "subslide"
    }
   },
   "outputs": [
    {
     "name": "stdout",
     "output_type": "stream",
     "text": [
      "David has the following friends: [[['b.name'], ['Pieter'], ['Vassilis'], ['Katrin']], ['Query internal execution time: 0.242109 milliseconds']]\n",
      "David likes [[['b.name'], ['Spiderman'], ['Batman']], ['Query internal execution time: 0.120604 milliseconds']]\n",
      "Comic Wonder Woman with relevance 2\n",
      "Comic Batman with relevance 1\n",
      "Comic Superman with relevance 1\n"
     ]
    }
   ],
   "source": [
    "## Basic test of the Graph\n",
    "print(\"David has the following friends: {0}\".format(get_neighbours(GRAPH, T_PERSON, T_PERSON, R_FRIEND, 'David')))\n",
    "print(\"David likes {0}\".format(get_neighbours(GRAPH, T_PERSON, T_COMIC, R_LIKES, 'David')))\n",
    "\n",
    "## Super hero comics that David's friends like\n",
    "'''\n",
    "MATCH (person:Person)-[:IS_FRIEND_OF]->(friend)-[likes:LIKES]->(comic)<-[:TYPE_OF]-(type) \n",
    "WHERE person.name = 'David' \n",
    "AND type.name = 'Super Heros' \n",
    "RETURN comic.name, count(likes) AS relevance \n",
    "ORDER BY relevance DESC\n",
    "LIMIT 10\n",
    "'''\n",
    "query = \"MATCH (person:Person)-[:IS_FRIEND_OF]->(friend)-[likes:LIKES]->(comic)<-[:TYPE_OF]-(type) WHERE person.name = 'David' AND type.name = 'Super Heros' RETURN comic.name, count(likes) AS relevance ORDER BY relevance DESC LIMIT 10\"\n",
    "result = r_g.execute_command('GRAPH.QUERY', GRAPH, query)\n",
    "for i in range(0, len(result[0])):\n",
    "    if i != 0:\n",
    "        r = result[0][i]\n",
    "        comic = r[0]\n",
    "        relevance = r[1]\n",
    "        print(\"Comic {0} with relevance {1}\".format(comic, relevance))"
   ]
  },
  {
   "cell_type": "code",
   "execution_count": null,
   "metadata": {},
   "outputs": [],
   "source": []
  },
  {
   "cell_type": "markdown",
   "metadata": {
    "slideshow": {
     "slide_type": "slide"
    }
   },
   "source": [
    "## Content Relevance via Full Text Search\n",
    "\n",
    "RediSearch has multiple built-in scoring functions. The default one is T(erm)F(requency)I(inverse)D(ocument)F(requency). The way it works is the following one:\n",
    "\n",
    "1. Term Frequency: How often does a specific term appear?\n",
    "2. Inverse Document Frequency: An inverse document frequency factor is incorporated which diminishes the weight of terms that occur very frequently in the document set and increases the weight of terms that occur rarely (i.e. the relevance of the word 'the')\n",
    "\n",
    "Furhter details about scoring can be found here:\n",
    "\n",
    "* https://oss.redislabs.com/redisearch/Scoring/\n",
    "\n",
    "Here, as before, the characteristics of this example:\n",
    "\n",
    "* Data structures: **Inverted Index**\n",
    "* Operations: Text search, Scoring\n"
   ]
  },
  {
   "cell_type": "code",
   "execution_count": null,
   "metadata": {
    "slideshow": {
     "slide_type": "skip"
    }
   },
   "outputs": [],
   "source": [
    "# RediSearch\n",
    "r_s = redis.StrictRedis('localhost', '9999', decode_responses=True)\n",
    "\n",
    "# Clean database\n",
    "r_s.flushall();\n",
    "print(\"Full text search database cleaned.\")"
   ]
  },
  {
   "cell_type": "code",
   "execution_count": null,
   "metadata": {
    "slideshow": {
     "slide_type": "subslide"
    }
   },
   "outputs": [],
   "source": [
    "# Converts a dict into a list of property values\n",
    "def format_doc_fields(fields):\n",
    "    result=[]\n",
    "    for f in fields:\n",
    "        result.append(f)\n",
    "        result.append(fields[f])\n",
    "    return result\n",
    "\n",
    "# Add a document to the index\n",
    "def add_doc(index, doc_id, score, fields):\n",
    "    fields = format_doc_fields(fields);\n",
    "    r_s.execute_command(\"FT.ADD\", index, doc_id, score, \"FIELDS\", *fields)"
   ]
  },
  {
   "cell_type": "code",
   "execution_count": null,
   "metadata": {
    "slideshow": {
     "slide_type": "subslide"
    }
   },
   "outputs": [],
   "source": [
    "# Create the index\n",
    "COMIC_IDX = 'comic_idx'\n",
    "\n",
    "## The schema of the index\n",
    "schema = { \"name\" : \"TEXT\", \"type\" : \"TEXT\", \"edition\" : \"NUMERIC\", \"released\" : \"NUMERIC\", \"desc\" : \"TEXT\"}\n",
    "schema = format_doc_fields(schema)\n",
    "\n",
    "r_s.execute_command(\"FT.CREATE\", COMIC_IDX, \"SCHEMA\", *schema)    \n",
    "\n",
    "# Add some search docs\n",
    "spiderman={\"name\": \"Spiderman\", \"type\" : \"hero\", \"edition\" : 1, \"released\" : 1962, \"desc\" : \"Spiderman is a fictional super hero created by writer-editor Stan Lee and writer-artist Steve Ditko.\"}\n",
    "batman={\"name\": \"Batman\", \"type\" : \"dark\", \"edition\" : 1, \"released\" : 1939, \"desc\" : \"Batman is a fictional hero appearing in American comic books published by DC Comics. The character was created by artist Bob Kane and writer Bill Finger.\"}\n",
    "\n",
    "# We are not weighting the docs themselves, \n",
    "# if we would do then this would have an impact on the score\n",
    "add_doc(COMIC_IDX, 'spiderman', 1, spiderman)\n",
    "add_doc(COMIC_IDX, 'batman', 1, batman)    \n",
    "\n",
    "print(\"Demo data created.\")"
   ]
  },
  {
   "cell_type": "code",
   "execution_count": null,
   "metadata": {
    "slideshow": {
     "slide_type": "subslide"
    }
   },
   "outputs": [],
   "source": [
    "# Search with scorer\n",
    "# Spiderman belongs more likely to the category 'hero' than Batman \n",
    "# as it has the type 'hero' and the word 'hero' appears\n",
    "# in the derscription\n",
    "CATEGORY = 'hero'\n",
    "r_s.execute_command(\"FT.SEARCH\", COMIC_IDX, CATEGORY, 'WITHSCORES' , 'SCORER', 'TFIDF.DOCNORM', 'WITHSCORES', 'RETURN', 1, 'name')"
   ]
  },
  {
   "cell_type": "markdown",
   "metadata": {
    "slideshow": {
     "slide_type": "slide"
    }
   },
   "source": [
    "## Probabilistic Data Structures\n",
    "\n",
    "\n",
    "Probabilistic data structures are defined in the follwoing way. They \n",
    "\n",
    "* Use hash functions for randamization purposes\n",
    "* Return an approximated result\n",
    "* The error is under a specific threshold\n",
    "* Much more space efficient than deterministic approaches\n",
    "* Provide a constant query time\n",
    "\n",
    "You would use them because sometimes …\n",
    "\n",
    "* Speed is more important than correctness\n",
    "* Compactness is more important than correctness\n",
    "* You only need certain data guarantees\n",
    "\n",
    "It's possible to combine them with deterministic approaches (i.e. HLL + det. counter for discovering counter manipulations)."
   ]
  },
  {
   "cell_type": "markdown",
   "metadata": {
    "slideshow": {
     "slide_type": "subslide"
    }
   },
   "source": [
    "We will take a look at the following 2 structures:\n",
    "\n",
    "* **HyperLogLog**: Cardinality estimation of a set, i.e. unique visits\n",
    "* **Bloom Filter**: Check if an item is contained in a set whereby false-positves are possible"
   ]
  },
  {
   "cell_type": "code",
   "execution_count": null,
   "metadata": {
    "slideshow": {
     "slide_type": "skip"
    }
   },
   "outputs": [],
   "source": [
    "# ReBloom\n",
    "r_b = redis.StrictRedis('localhost', '5555', decode_responses=True)\n",
    "\n",
    "# Clean\n",
    "r_b.flushall()\n",
    "print(\"Bloom filter database cleaned.\")"
   ]
  },
  {
   "cell_type": "code",
   "execution_count": null,
   "metadata": {
    "slideshow": {
     "slide_type": "subslide"
    }
   },
   "outputs": [],
   "source": [
    "# Track the number of unique users those wanted to have a specific comic edition\n",
    "r_b.pfadd(\"wanted:spiderman:1\", \"david\", \"pieter\", \"katrin\", \"romy\")\n",
    "\n",
    "# Add David again to show that it is about unique users\n",
    "r_b.pfadd(\"wanted:spiderman:1\", \"david\")\n",
    "\n",
    "\n",
    "print(\"HLL initial size: {0}\".format(r_b.execute_command(\"DEBUG OBJECT\", \"wanted:spiderman:1\")[\"serializedlength\"]))\n",
    "print(\"Approx. count: {0}\".format(r_b.pfcount(\"wanted:spiderman:1\")))\n",
    "\n",
    "print(\"Please wait ...\")\n",
    "for i in range(0, 100000):\n",
    "    r_b.pfadd(\"wanted:spiderman:1\", \"user:{0}\".format(i))\n",
    "\n",
    "print(\"Final HLL size: {0} bytes\".format(r_b.execute_command(\"DEBUG OBJECT\", \"wanted:spiderman:1\")[\"serializedlength\"]))\n",
    "print(\"Approx. count: {0}\".format(r_b.pfcount(\"wanted:spiderman:1\")))"
   ]
  },
  {
   "cell_type": "code",
   "execution_count": null,
   "metadata": {
    "slideshow": {
     "slide_type": "subslide"
    }
   },
   "outputs": [],
   "source": [
    "# Check if a user is interested a specific comic category w/o actually storing the users per category set\n",
    "r_b.execute_command(\"BF.ADD\", \"ctg:super-heros\", \"david\")\n",
    "r_b.execute_command(\"BF.ADD\", \"ctg:super-heros\", \"pieter\")\n",
    "r_b.execute_command(\"BF.ADD\", \"ctg:super-heros\", \"vassilis\")\n",
    "r_b.execute_command(\"BF.ADD\", \"ctg:fantasy\", \"katrin\")\n",
    "\n",
    "print(\"BF size: {0} bytes\".format(r_b.execute_command(\"DEBUG OBJECT\", \"ctg:super-heros\")[\"serializedlength\"]))\n",
    "print(\"BF size: {0} bytes\".format(r_b.exe2cute_command(\"DEBUG OBJECT\", \"ctg:fantasy\")[\"serializedlength\"]))\n",
    "\n",
    "print(\"Is Katrin interested in Fantasy?: {0}\".format(r_b.execute_command(\"BF.EXISTS\", \"ctg:fantasy\", \"katrin\")))\n",
    "print(\"Is Katrin interested in Super Heros?: {0}\".format(r_b.execute_command(\"BF.EXISTS\", \"ctg:super-heros\", \"katrin\")))\n",
    "print(\"Is David interested in Super Heros?: {0}\".format(r_b.execute_command(\"BF.EXISTS\", \"ctg:super-heros\", \"david\")))"
   ]
  },
  {
   "cell_type": "markdown",
   "metadata": {
    "slideshow": {
     "slide_type": "slide"
    }
   },
   "source": [
    "## Machine Learning for Classifications and Predictions\n",
    "\n",
    "The idea here is to train a model and then use such a model in order to classify a user. Here 2 examples for such models:\n",
    "\n",
    "* Decision Tree ensembles (random forests). The idea is to conduct a forest of decision trees at training time. RedisML can be used for the Model Serving by leveraging these decision trees for i.e. classification purposes. The class which appears most often will be the winner.\n",
    "\n",
    "* Neural networks: Train the weighted connections between neurons by using a learning algorithm (i.e. Backpropagation). Such networks are function approximators, meaning that the input vector will be mapped to an output vector. The output vector can tell you for instance how likely a given input is belonging to a specific class or category.\n",
    "\n",
    "### Redis-ML and Tree Ensembles\n",
    "\n",
    "The idea is to train the model by adding decision trees based on known users (i.e. Robin is 14 years old, he has about 5000 comics but he doesn't like Manga comics) by then deriving the class to which a user belongs. The class 'likes Manga Comics' is for instance binary. Either you like them (1) or you hate them (0)."
   ]
  },
  {
   "cell_type": "code",
   "execution_count": null,
   "metadata": {
    "slideshow": {
     "slide_type": "skip"
    }
   },
   "outputs": [],
   "source": [
    "# RedisML\n",
    "r_m = redis.StrictRedis('localhost', '3333', decode_responses=True)\n",
    "\n",
    "# Clean DB\n",
    "r_m.flushall()\n",
    "print(\"ML database cleaned.\")"
   ]
  },
  {
   "cell_type": "code",
   "execution_count": null,
   "metadata": {
    "slideshow": {
     "slide_type": "subslide"
    }
   },
   "outputs": [],
   "source": [
    "# Add a very small binary tree with a criteria name and value\n",
    "def add_to_tree(forest, tree, cname, cvalue ):\n",
    "    return r_m.execute_command(\"ML.FOREST.ADD\", forest, tree, \".\", \"NUMERIC\", cname, cvalue, \".l\", \"LEAF\", 1, \".r\", \"LEAF\", 0)\n",
    "    \n",
    "# Basic formatting of feature vectors. They need to be in the format a:b,c:d\n",
    "def format_features(features):\n",
    "    v = \"\"\n",
    "    for f in features:\n",
    "        e = \"{0}:{1}\".format(f, features[f])\n",
    "        v += e + \",\"\n",
    "    return v.strip(',')\n",
    "\n",
    "# Classify based on the provided user features\n",
    "def classify(forest, features):\n",
    "    v = format_features(features)\n",
    "    return r_m.execute_command(\"ML.FOREST.RUN\", forest, v, \"CLASSIFICATION\")"
   ]
  },
  {
   "cell_type": "code",
   "execution_count": null,
   "metadata": {
    "slideshow": {
     "slide_type": "subslide"
    }
   },
   "outputs": [],
   "source": [
    "# Two very small decision trees:\n",
    "## Persons with an age of lower than or equal 20 are liking Manga Comics\n",
    "### First tree\n",
    "add_to_tree(\"manga\", 0, \"age\", 20 )\n",
    "\n",
    "## Persons those with more than 1000 comics are not liking Manga Comics\n",
    "### Second tree\n",
    "add_to_tree(\"manga\", 1, \"numcomics\", 1000)\n",
    "\n",
    "print(\"Does David likes Manga Comics?: {0}\".format(classify(\"manga\", { \"age\" : 38 })))\n",
    "print(\"Does Philip likes Manga Comics?: {0}\".format(classify(\"manga\", { \"age\" : 11 })))\n",
    "print(\"Does Robin likes Manga Comics?: {0}\".format(classify(\"manga\", { \"age\" : 14, \"numcomics\" : 5000 })))"
   ]
  },
  {
   "cell_type": "markdown",
   "metadata": {
    "slideshow": {
     "slide_type": "slide"
    }
   },
   "source": [
    "### Other Deep Learning Modules\n",
    "\n",
    "* **RedisAI**: Is Redis module for serving tensors and executing deep learning graphs. The source code is available here: https://github.com/RedisAI/RedisAI . The idea is to to train your models (i.e. neural networks) in Tensorflow and then to load the model to Redis in order to execute on it.\n",
    "\n",
    "<center>\n",
    "<img style=\"margin: 10px; height: 200px; text-align: center\" src=\"https://www.tensorflow.org/images/tensors_flowing.gif\">\n",
    "</center>\n",
    "\n",
    "* **Neural Redis**: Is a Redis module that implements feed forward neural networks as a native data type for Redis. The project goal is to provide Redis users with an extremely simple to use machine learning experience.\n",
    "\n"
   ]
  },
  {
   "cell_type": "markdown",
   "metadata": {
    "slideshow": {
     "slide_type": "slide"
    }
   },
   "source": [
    "## Questions?\n",
    "\n",
    "Follow  me on Twitter!\n",
    "\n",
    "@martinez099"
   ]
  }
 ],
 "metadata": {
  "celltoolbar": "Slideshow",
  "kernelspec": {
   "display_name": "Python 2",
   "language": "python",
   "name": "python2"
  },
  "language_info": {
   "codemirror_mode": {
    "name": "ipython",
    "version": 3
   },
   "file_extension": ".py",
   "mimetype": "text/x-python",
   "name": "python",
   "nbconvert_exporter": "python",
   "pygments_lexer": "ipython3",
   "version": "3.7.2"
  }
 },
 "nbformat": 4,
 "nbformat_minor": 2
}
