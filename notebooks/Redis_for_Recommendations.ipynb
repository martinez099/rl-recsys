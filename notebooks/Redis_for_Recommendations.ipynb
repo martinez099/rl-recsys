{
 "cells": [
  {
   "cell_type": "markdown",
   "metadata": {},
   "source": [
    "# Redis for Recommendations\n",
    "## Preparations"
   ]
  },
  {
   "cell_type": "code",
   "execution_count": 140,
   "metadata": {},
   "outputs": [
    {
     "name": "stdout",
     "output_type": "stream",
     "text": [
      "Preparing Notebook ...\n",
      "Connected to: Redis<ConnectionPool<Connection<host=localhost,port=6379,db=0>>>\n",
      "Flushed: True\n"
     ]
    }
   ],
   "source": [
    "import redis\n",
    "\n",
    "print(\"Preparing Notebook ...\")\n",
    "r = redis.StrictRedis()\n",
    "print(\"Connected to: \" + str(r))\n",
    "print(\"Flushed: \" + str(r.flushall()))"
   ]
  },
  {
   "cell_type": "markdown",
   "metadata": {},
   "source": [
    "## Content Based Filtering"
   ]
  },
  {
   "cell_type": "code",
   "execution_count": 27,
   "metadata": {
    "scrolled": true
   },
   "outputs": [
    {
     "name": "stdout",
     "output_type": "stream",
     "text": [
      "{b'Spiderman', b'Batman', b'Fantastic Four', b'Wonder Woman', b'Valerian', b'Avatar', b'Dragon Age'}\n"
     ]
    }
   ],
   "source": [
    "# David owns i.e. 1 comic per one of the following categories:\n",
    "r.sadd('usr:david:catg', 'fantasy', 'super-heros', 'scifi')\n",
    "\n",
    "# Here the items per category\n",
    "r.sadd('ctg:scifi:items','Valerian', 'Fantastic Four')\n",
    "r.sadd('ctg:super-heros:items', 'Batman', 'Spiderman', 'Wonder Woman')\n",
    "r.sadd('ctg:fantasy:items', 'Avatar', 'Dragon Age')\n",
    "\n",
    "# The following items could be interesting for David\n",
    "## BTW: SSCAN better for large sets\n",
    "categories = r.smembers('usr:david:catg')\n",
    "\n",
    "## Helper to prepare key list\n",
    "keys = []\n",
    "for ctg in categories:\n",
    "    keys.append(\"ctg:\" + ctg.decode('UTF8')+ \":items\")\n",
    "   \n",
    "    \n",
    "## BTW: SUNIONSTORE for materializing large result sets\n",
    "result = r.sunion(keys)\n",
    "print(result)"
   ]
  },
  {
   "cell_type": "markdown",
   "metadata": {},
   "source": [
    "## Collaborative Filtering"
   ]
  },
  {
   "cell_type": "code",
   "execution_count": 56,
   "metadata": {},
   "outputs": [
    {
     "name": "stdout",
     "output_type": "stream",
     "text": [
      "Users interested in the same items as David: {b'pieter', b'david'}\n",
      "David is interested in: {b'Spiderman', b'Batman'}\n",
      "David could be also interested in: {b'Wonder Woman'}\n"
     ]
    }
   ],
   "source": [
    "# David owns the comics Spiderman and Batman\n",
    "r.sadd('usr:david:items','Spiderman', 'Batman')\n",
    "\n",
    "# Pieter owns the comics Wonder Woman and Batman\n",
    "r.sadd('usr:pieter:items', 'Wonder Woman', 'Batman')\n",
    "\n",
    "# The following is the reverse mapping per item\n",
    "r.sadd('itm:spiderman:users', 'david')\n",
    "r.sadd('itm:batman:users', 'david', 'pieter')\n",
    "r.sadd('item:wonder_woman:users', 'pieter')\n",
    "\n",
    "# These are all the users interested in the same items as David\n",
    "items = r.smembers('usr:david:items')\n",
    "keys = []\n",
    "for item in items:\n",
    "    keys.append(\"itm:\" + item.decode('UTF-8').lower().replace(' ', '_') + \":users\")\n",
    "\n",
    "users = r.sunion(keys)\n",
    "print(\"Users interested in the same items as David: \" + str(users))\n",
    "\n",
    "                 \n",
    "# Pieter is interested in the same items as David, so here the recommendation for David based on Pieter's interests\n",
    "print(\"David is interested in: \" + str(r.smembers('usr:david:items')))\n",
    "david_key = 'usr:david:items'\n",
    "\n",
    "for usr in users:\n",
    "    usr_key = \"usr:\" + usr.decode('UTF-8') + \":items\"\n",
    "    if usr_key != david_key:\n",
    "        print(\"David could be also interested in: \" + str(r.sdiff(usr_key, david_key)))\n",
    "\n"
   ]
  },
  {
   "cell_type": "code",
   "execution_count": 174,
   "metadata": {},
   "outputs": [
    {
     "name": "stdout",
     "output_type": "stream",
     "text": [
      "The following users rated David's items: [b'pieter', b'david']\n",
      "The rating distance to pieter is [(b'batman', 1.0), (b'superman', -1.0)]\n",
      "The average distance (RMS) to pieter is 1.0\n",
      "The following is highly recommended: [(b'wonder_woman', 5.0)]\n"
     ]
    }
   ],
   "source": [
    "# TODO: Check syntax of r.zadd\n",
    "def zadd(key, score, item):\n",
    "    return r.execute_command('ZADD', key, score, item)\n",
    "\n",
    "# TODO: redis-py doesn't support weitghts here\n",
    "def zinterstore(target, keys, weights):\n",
    "    return r.execute_command('ZINTERSTORE', target, len(keys), *keys, 'WEIGHTS', *weights)\n",
    "\n",
    "def zunionstore_agg_min(target, keys, weights):\n",
    "    # Weights will be applied before the aggregation is executed as part of the union\n",
    "    return r.execute_command('ZUNIONSTORE', target, len(keys), *keys, 'WEIGHTS', *weights, 'AGGREGATE', 'MIN')\n",
    "\n",
    "# Root Mean Square\n",
    "import math\n",
    "def rms(values):\n",
    "    sq_sum = 0\n",
    "    for v in values:\n",
    "        v = v[1]\n",
    "        v = v ** 2\n",
    "        sq_sum = sq_sum + v\n",
    "    sq_sum_avg = sq_sum / len(values)\n",
    "    return math.sqrt(sq_sum_avg)\n",
    "        \n",
    "\n",
    "\n",
    "# Ratings by user\n",
    "zadd('usr:david:ratings', 3.0, 'spiderman')\n",
    "zadd('usr:david:ratings', 4.0, 'batman')\n",
    "zadd('usr:david:ratings', 3.0, 'superman')\n",
    "zadd('usr:pieter:ratings', 3.0, 'batman')\n",
    "zadd('usr:pieter:ratings', 5.0, 'wonder_woman')\n",
    "zadd('usr:pieter:ratings', 1.0, 'aqua_man')\n",
    "zadd('usr:pieter:ratings', 4.0, 'superman')\n",
    "\n",
    "\n",
    "# Ratings by item\n",
    "zadd('itm:spiderman:ratings', 3.0, 'david')\n",
    "zadd('itm:batman:ratings', 4.0, 'david')\n",
    "zadd('itm:batman:ratings', 3.0, 'pieter')\n",
    "zadd('itm:wonder_woman:ratings', 5.0, 'pieter')\n",
    "\n",
    "# Items rated by David\n",
    "rated = r.zrange('usr:david:ratings', 0, -1)\n",
    "keys = []\n",
    "for rt in rated_david:\n",
    "    key = \"itm:\" + rt.decode('UTF8') + \":ratings\"\n",
    "    keys.append(key)\n",
    "\n",
    "r.zunionstore('usr:david:ratings:same', keys)\n",
    "users = r.zrange('usr:david:ratings:same', 0, -1)\n",
    "print(\"The following users rated David's items: \" + str(users))\n",
    "\n",
    "#Calculate similarities\n",
    "david_key = 'usr:david:ratings'\n",
    "for usr in users:\n",
    "        usr = usr.decode('UTF-8')\n",
    "        usr_key = \"usr:\" + usr + ':ratings'\n",
    "        \n",
    "        if usr_key != david_key:\n",
    "            usr_keys = [ david_key, usr_key ]\n",
    "            # Weights are multiplying the scores\n",
    "            usr_weights = [1, -1]\n",
    "            '''\n",
    "            By default, the resulting score of an element is the sum of its scores in the sorted sets where it exists. \n",
    "            Weights multiplicators for scores\n",
    "            The weight is (1,-1) means that we subtract the second value from the first\n",
    "            So rms:<user1>:<user2> does for now just store the distance between the user ratings\n",
    "            '''\n",
    "            zinterstore(\"dist:david:\" + usr, usr_keys, usr_weights)\n",
    "            dists = r.zrange(\"dist:david:\" + usr, 0, -1, True, True)\n",
    "            print(\"The rating distance to \" + usr + \" is \" + str(dists))\n",
    "            print(\"The average distance (RMS) to \" + usr + \" is \" + str(rms(dists)))\n",
    "            \n",
    "            # The user is similar enough to David, add items of other users to the recommendation list\n",
    "            if rms(dists) <= 1:\n",
    "                #print(r.zrangebyscore(usr_key,4,5))\n",
    "                \n",
    "                # Items those are rated by David will have a negative score\n",
    "                usr_filter = [-1, 1]\n",
    "                zunionstore_agg_min('rec:david', usr_keys, usr_filter)\n",
    "                # Filter only items with a score between 4 and 5 out\n",
    "                print(\"The following is highly recommended: \" + str(r.zrangebyscore('rec:david',4,5, withscores=True)))\n",
    "                \n",
    "                \n",
    "                \n",
    "    "
   ]
  }
 ],
 "metadata": {
  "kernelspec": {
   "display_name": "Python 3",
   "language": "python",
   "name": "python3"
  },
  "language_info": {
   "codemirror_mode": {
    "name": "ipython",
    "version": 3
   },
   "file_extension": ".py",
   "mimetype": "text/x-python",
   "name": "python",
   "nbconvert_exporter": "python",
   "pygments_lexer": "ipython3",
   "version": "3.7.2"
  }
 },
 "nbformat": 4,
 "nbformat_minor": 2
}
